{
  "nbformat": 4,
  "nbformat_minor": 0,
  "metadata": {
    "colab": {
      "name": "FinalSubmission.ipynb",
      "provenance": []
    },
    "kernelspec": {
      "name": "python3",
      "display_name": "Python 3"
    },
    "language_info": {
      "name": "python"
    }
  },
  "cells": [
    {
      "cell_type": "markdown",
      "metadata": {
        "id": "qX-noV2Y1JAV"
      },
      "source": [
        "**Importing Useful Libraries**\n",
        "\n"
      ]
    },
    {
      "cell_type": "code",
      "metadata": {
        "colab": {
          "base_uri": "https://localhost:8080/"
        },
        "id": "hNd8LU0u05io",
        "outputId": "4079cd83-31e3-4f7c-9c04-5af08924f2db"
      },
      "source": [
        "from google.colab import drive\n",
        "drive.mount('/content/drive')"
      ],
      "execution_count": 1,
      "outputs": [
        {
          "output_type": "stream",
          "name": "stdout",
          "text": [
            "Mounted at /content/drive\n"
          ]
        }
      ]
    },
    {
      "cell_type": "code",
      "metadata": {
        "colab": {
          "base_uri": "https://localhost:8080/"
        },
        "id": "vGKkaK1B37oY",
        "outputId": "5b6d2cbb-27a3-433b-b5fb-88e3399f505d"
      },
      "source": [
        "!pip install mtcnn"
      ],
      "execution_count": 2,
      "outputs": [
        {
          "output_type": "stream",
          "name": "stdout",
          "text": [
            "Collecting mtcnn\n",
            "  Downloading mtcnn-0.1.1-py3-none-any.whl (2.3 MB)\n",
            "\u001b[?25l\r\u001b[K     |▏                               | 10 kB 19.0 MB/s eta 0:00:01\r\u001b[K     |▎                               | 20 kB 21.7 MB/s eta 0:00:01\r\u001b[K     |▍                               | 30 kB 25.2 MB/s eta 0:00:01\r\u001b[K     |▋                               | 40 kB 24.6 MB/s eta 0:00:01\r\u001b[K     |▊                               | 51 kB 25.1 MB/s eta 0:00:01\r\u001b[K     |▉                               | 61 kB 26.9 MB/s eta 0:00:01\r\u001b[K     |█                               | 71 kB 28.6 MB/s eta 0:00:01\r\u001b[K     |█▏                              | 81 kB 29.7 MB/s eta 0:00:01\r\u001b[K     |█▎                              | 92 kB 30.5 MB/s eta 0:00:01\r\u001b[K     |█▌                              | 102 kB 31.3 MB/s eta 0:00:01\r\u001b[K     |█▋                              | 112 kB 31.3 MB/s eta 0:00:01\r\u001b[K     |█▊                              | 122 kB 31.3 MB/s eta 0:00:01\r\u001b[K     |█▉                              | 133 kB 31.3 MB/s eta 0:00:01\r\u001b[K     |██                              | 143 kB 31.3 MB/s eta 0:00:01\r\u001b[K     |██▏                             | 153 kB 31.3 MB/s eta 0:00:01\r\u001b[K     |██▎                             | 163 kB 31.3 MB/s eta 0:00:01\r\u001b[K     |██▌                             | 174 kB 31.3 MB/s eta 0:00:01\r\u001b[K     |██▋                             | 184 kB 31.3 MB/s eta 0:00:01\r\u001b[K     |██▊                             | 194 kB 31.3 MB/s eta 0:00:01\r\u001b[K     |███                             | 204 kB 31.3 MB/s eta 0:00:01\r\u001b[K     |███                             | 215 kB 31.3 MB/s eta 0:00:01\r\u001b[K     |███▏                            | 225 kB 31.3 MB/s eta 0:00:01\r\u001b[K     |███▍                            | 235 kB 31.3 MB/s eta 0:00:01\r\u001b[K     |███▌                            | 245 kB 31.3 MB/s eta 0:00:01\r\u001b[K     |███▋                            | 256 kB 31.3 MB/s eta 0:00:01\r\u001b[K     |███▊                            | 266 kB 31.3 MB/s eta 0:00:01\r\u001b[K     |████                            | 276 kB 31.3 MB/s eta 0:00:01\r\u001b[K     |████                            | 286 kB 31.3 MB/s eta 0:00:01\r\u001b[K     |████▏                           | 296 kB 31.3 MB/s eta 0:00:01\r\u001b[K     |████▍                           | 307 kB 31.3 MB/s eta 0:00:01\r\u001b[K     |████▌                           | 317 kB 31.3 MB/s eta 0:00:01\r\u001b[K     |████▋                           | 327 kB 31.3 MB/s eta 0:00:01\r\u001b[K     |████▉                           | 337 kB 31.3 MB/s eta 0:00:01\r\u001b[K     |█████                           | 348 kB 31.3 MB/s eta 0:00:01\r\u001b[K     |█████                           | 358 kB 31.3 MB/s eta 0:00:01\r\u001b[K     |█████▏                          | 368 kB 31.3 MB/s eta 0:00:01\r\u001b[K     |█████▍                          | 378 kB 31.3 MB/s eta 0:00:01\r\u001b[K     |█████▌                          | 389 kB 31.3 MB/s eta 0:00:01\r\u001b[K     |█████▋                          | 399 kB 31.3 MB/s eta 0:00:01\r\u001b[K     |█████▉                          | 409 kB 31.3 MB/s eta 0:00:01\r\u001b[K     |██████                          | 419 kB 31.3 MB/s eta 0:00:01\r\u001b[K     |██████                          | 430 kB 31.3 MB/s eta 0:00:01\r\u001b[K     |██████▎                         | 440 kB 31.3 MB/s eta 0:00:01\r\u001b[K     |██████▍                         | 450 kB 31.3 MB/s eta 0:00:01\r\u001b[K     |██████▌                         | 460 kB 31.3 MB/s eta 0:00:01\r\u001b[K     |██████▊                         | 471 kB 31.3 MB/s eta 0:00:01\r\u001b[K     |██████▉                         | 481 kB 31.3 MB/s eta 0:00:01\r\u001b[K     |███████                         | 491 kB 31.3 MB/s eta 0:00:01\r\u001b[K     |███████                         | 501 kB 31.3 MB/s eta 0:00:01\r\u001b[K     |███████▎                        | 512 kB 31.3 MB/s eta 0:00:01\r\u001b[K     |███████▍                        | 522 kB 31.3 MB/s eta 0:00:01\r\u001b[K     |███████▌                        | 532 kB 31.3 MB/s eta 0:00:01\r\u001b[K     |███████▊                        | 542 kB 31.3 MB/s eta 0:00:01\r\u001b[K     |███████▉                        | 552 kB 31.3 MB/s eta 0:00:01\r\u001b[K     |████████                        | 563 kB 31.3 MB/s eta 0:00:01\r\u001b[K     |████████▏                       | 573 kB 31.3 MB/s eta 0:00:01\r\u001b[K     |████████▎                       | 583 kB 31.3 MB/s eta 0:00:01\r\u001b[K     |████████▍                       | 593 kB 31.3 MB/s eta 0:00:01\r\u001b[K     |████████▌                       | 604 kB 31.3 MB/s eta 0:00:01\r\u001b[K     |████████▊                       | 614 kB 31.3 MB/s eta 0:00:01\r\u001b[K     |████████▉                       | 624 kB 31.3 MB/s eta 0:00:01\r\u001b[K     |█████████                       | 634 kB 31.3 MB/s eta 0:00:01\r\u001b[K     |█████████▏                      | 645 kB 31.3 MB/s eta 0:00:01\r\u001b[K     |█████████▎                      | 655 kB 31.3 MB/s eta 0:00:01\r\u001b[K     |█████████▍                      | 665 kB 31.3 MB/s eta 0:00:01\r\u001b[K     |█████████▋                      | 675 kB 31.3 MB/s eta 0:00:01\r\u001b[K     |█████████▊                      | 686 kB 31.3 MB/s eta 0:00:01\r\u001b[K     |█████████▉                      | 696 kB 31.3 MB/s eta 0:00:01\r\u001b[K     |██████████                      | 706 kB 31.3 MB/s eta 0:00:01\r\u001b[K     |██████████▏                     | 716 kB 31.3 MB/s eta 0:00:01\r\u001b[K     |██████████▎                     | 727 kB 31.3 MB/s eta 0:00:01\r\u001b[K     |██████████▍                     | 737 kB 31.3 MB/s eta 0:00:01\r\u001b[K     |██████████▋                     | 747 kB 31.3 MB/s eta 0:00:01\r\u001b[K     |██████████▊                     | 757 kB 31.3 MB/s eta 0:00:01\r\u001b[K     |██████████▉                     | 768 kB 31.3 MB/s eta 0:00:01\r\u001b[K     |███████████                     | 778 kB 31.3 MB/s eta 0:00:01\r\u001b[K     |███████████▏                    | 788 kB 31.3 MB/s eta 0:00:01\r\u001b[K     |███████████▎                    | 798 kB 31.3 MB/s eta 0:00:01\r\u001b[K     |███████████▌                    | 808 kB 31.3 MB/s eta 0:00:01\r\u001b[K     |███████████▋                    | 819 kB 31.3 MB/s eta 0:00:01\r\u001b[K     |███████████▊                    | 829 kB 31.3 MB/s eta 0:00:01\r\u001b[K     |███████████▉                    | 839 kB 31.3 MB/s eta 0:00:01\r\u001b[K     |████████████                    | 849 kB 31.3 MB/s eta 0:00:01\r\u001b[K     |████████████▏                   | 860 kB 31.3 MB/s eta 0:00:01\r\u001b[K     |████████████▎                   | 870 kB 31.3 MB/s eta 0:00:01\r\u001b[K     |████████████▌                   | 880 kB 31.3 MB/s eta 0:00:01\r\u001b[K     |████████████▋                   | 890 kB 31.3 MB/s eta 0:00:01\r\u001b[K     |████████████▊                   | 901 kB 31.3 MB/s eta 0:00:01\r\u001b[K     |█████████████                   | 911 kB 31.3 MB/s eta 0:00:01\r\u001b[K     |█████████████                   | 921 kB 31.3 MB/s eta 0:00:01\r\u001b[K     |█████████████▏                  | 931 kB 31.3 MB/s eta 0:00:01\r\u001b[K     |█████████████▍                  | 942 kB 31.3 MB/s eta 0:00:01\r\u001b[K     |█████████████▌                  | 952 kB 31.3 MB/s eta 0:00:01\r\u001b[K     |█████████████▋                  | 962 kB 31.3 MB/s eta 0:00:01\r\u001b[K     |█████████████▊                  | 972 kB 31.3 MB/s eta 0:00:01\r\u001b[K     |██████████████                  | 983 kB 31.3 MB/s eta 0:00:01\r\u001b[K     |██████████████                  | 993 kB 31.3 MB/s eta 0:00:01\r\u001b[K     |██████████████▏                 | 1.0 MB 31.3 MB/s eta 0:00:01\r\u001b[K     |██████████████▍                 | 1.0 MB 31.3 MB/s eta 0:00:01\r\u001b[K     |██████████████▌                 | 1.0 MB 31.3 MB/s eta 0:00:01\r\u001b[K     |██████████████▋                 | 1.0 MB 31.3 MB/s eta 0:00:01\r\u001b[K     |██████████████▉                 | 1.0 MB 31.3 MB/s eta 0:00:01\r\u001b[K     |███████████████                 | 1.1 MB 31.3 MB/s eta 0:00:01\r\u001b[K     |███████████████                 | 1.1 MB 31.3 MB/s eta 0:00:01\r\u001b[K     |███████████████▏                | 1.1 MB 31.3 MB/s eta 0:00:01\r\u001b[K     |███████████████▍                | 1.1 MB 31.3 MB/s eta 0:00:01\r\u001b[K     |███████████████▌                | 1.1 MB 31.3 MB/s eta 0:00:01\r\u001b[K     |███████████████▋                | 1.1 MB 31.3 MB/s eta 0:00:01\r\u001b[K     |███████████████▉                | 1.1 MB 31.3 MB/s eta 0:00:01\r\u001b[K     |████████████████                | 1.1 MB 31.3 MB/s eta 0:00:01\r\u001b[K     |████████████████                | 1.1 MB 31.3 MB/s eta 0:00:01\r\u001b[K     |████████████████▎               | 1.1 MB 31.3 MB/s eta 0:00:01\r\u001b[K     |████████████████▍               | 1.2 MB 31.3 MB/s eta 0:00:01\r\u001b[K     |████████████████▌               | 1.2 MB 31.3 MB/s eta 0:00:01\r\u001b[K     |████████████████▊               | 1.2 MB 31.3 MB/s eta 0:00:01\r\u001b[K     |████████████████▉               | 1.2 MB 31.3 MB/s eta 0:00:01\r\u001b[K     |█████████████████               | 1.2 MB 31.3 MB/s eta 0:00:01\r\u001b[K     |█████████████████               | 1.2 MB 31.3 MB/s eta 0:00:01\r\u001b[K     |█████████████████▎              | 1.2 MB 31.3 MB/s eta 0:00:01\r\u001b[K     |█████████████████▍              | 1.2 MB 31.3 MB/s eta 0:00:01\r\u001b[K     |█████████████████▌              | 1.2 MB 31.3 MB/s eta 0:00:01\r\u001b[K     |█████████████████▊              | 1.2 MB 31.3 MB/s eta 0:00:01\r\u001b[K     |█████████████████▉              | 1.3 MB 31.3 MB/s eta 0:00:01\r\u001b[K     |██████████████████              | 1.3 MB 31.3 MB/s eta 0:00:01\r\u001b[K     |██████████████████▏             | 1.3 MB 31.3 MB/s eta 0:00:01\r\u001b[K     |██████████████████▎             | 1.3 MB 31.3 MB/s eta 0:00:01\r\u001b[K     |██████████████████▍             | 1.3 MB 31.3 MB/s eta 0:00:01\r\u001b[K     |██████████████████▌             | 1.3 MB 31.3 MB/s eta 0:00:01\r\u001b[K     |██████████████████▊             | 1.3 MB 31.3 MB/s eta 0:00:01\r\u001b[K     |██████████████████▉             | 1.3 MB 31.3 MB/s eta 0:00:01\r\u001b[K     |███████████████████             | 1.3 MB 31.3 MB/s eta 0:00:01\r\u001b[K     |███████████████████▏            | 1.4 MB 31.3 MB/s eta 0:00:01\r\u001b[K     |███████████████████▎            | 1.4 MB 31.3 MB/s eta 0:00:01\r\u001b[K     |███████████████████▍            | 1.4 MB 31.3 MB/s eta 0:00:01\r\u001b[K     |███████████████████▋            | 1.4 MB 31.3 MB/s eta 0:00:01\r\u001b[K     |███████████████████▊            | 1.4 MB 31.3 MB/s eta 0:00:01\r\u001b[K     |███████████████████▉            | 1.4 MB 31.3 MB/s eta 0:00:01\r\u001b[K     |████████████████████            | 1.4 MB 31.3 MB/s eta 0:00:01\r\u001b[K     |████████████████████▏           | 1.4 MB 31.3 MB/s eta 0:00:01\r\u001b[K     |████████████████████▎           | 1.4 MB 31.3 MB/s eta 0:00:01\r\u001b[K     |████████████████████▍           | 1.4 MB 31.3 MB/s eta 0:00:01\r\u001b[K     |████████████████████▋           | 1.5 MB 31.3 MB/s eta 0:00:01\r\u001b[K     |████████████████████▊           | 1.5 MB 31.3 MB/s eta 0:00:01\r\u001b[K     |████████████████████▉           | 1.5 MB 31.3 MB/s eta 0:00:01\r\u001b[K     |█████████████████████           | 1.5 MB 31.3 MB/s eta 0:00:01\r\u001b[K     |█████████████████████▏          | 1.5 MB 31.3 MB/s eta 0:00:01\r\u001b[K     |█████████████████████▎          | 1.5 MB 31.3 MB/s eta 0:00:01\r\u001b[K     |█████████████████████▌          | 1.5 MB 31.3 MB/s eta 0:00:01\r\u001b[K     |█████████████████████▋          | 1.5 MB 31.3 MB/s eta 0:00:01\r\u001b[K     |█████████████████████▊          | 1.5 MB 31.3 MB/s eta 0:00:01\r\u001b[K     |██████████████████████          | 1.5 MB 31.3 MB/s eta 0:00:01\r\u001b[K     |██████████████████████          | 1.6 MB 31.3 MB/s eta 0:00:01\r\u001b[K     |██████████████████████▏         | 1.6 MB 31.3 MB/s eta 0:00:01\r\u001b[K     |██████████████████████▎         | 1.6 MB 31.3 MB/s eta 0:00:01\r\u001b[K     |██████████████████████▌         | 1.6 MB 31.3 MB/s eta 0:00:01\r\u001b[K     |██████████████████████▋         | 1.6 MB 31.3 MB/s eta 0:00:01\r\u001b[K     |██████████████████████▊         | 1.6 MB 31.3 MB/s eta 0:00:01\r\u001b[K     |███████████████████████         | 1.6 MB 31.3 MB/s eta 0:00:01\r\u001b[K     |███████████████████████         | 1.6 MB 31.3 MB/s eta 0:00:01\r\u001b[K     |███████████████████████▏        | 1.6 MB 31.3 MB/s eta 0:00:01\r\u001b[K     |███████████████████████▍        | 1.6 MB 31.3 MB/s eta 0:00:01\r\u001b[K     |███████████████████████▌        | 1.7 MB 31.3 MB/s eta 0:00:01\r\u001b[K     |███████████████████████▋        | 1.7 MB 31.3 MB/s eta 0:00:01\r\u001b[K     |███████████████████████▊        | 1.7 MB 31.3 MB/s eta 0:00:01\r\u001b[K     |████████████████████████        | 1.7 MB 31.3 MB/s eta 0:00:01\r\u001b[K     |████████████████████████        | 1.7 MB 31.3 MB/s eta 0:00:01\r\u001b[K     |████████████████████████▏       | 1.7 MB 31.3 MB/s eta 0:00:01\r\u001b[K     |████████████████████████▍       | 1.7 MB 31.3 MB/s eta 0:00:01\r\u001b[K     |████████████████████████▌       | 1.7 MB 31.3 MB/s eta 0:00:01\r\u001b[K     |████████████████████████▋       | 1.7 MB 31.3 MB/s eta 0:00:01\r\u001b[K     |████████████████████████▉       | 1.8 MB 31.3 MB/s eta 0:00:01\r\u001b[K     |█████████████████████████       | 1.8 MB 31.3 MB/s eta 0:00:01\r\u001b[K     |█████████████████████████       | 1.8 MB 31.3 MB/s eta 0:00:01\r\u001b[K     |█████████████████████████▎      | 1.8 MB 31.3 MB/s eta 0:00:01\r\u001b[K     |█████████████████████████▍      | 1.8 MB 31.3 MB/s eta 0:00:01\r\u001b[K     |█████████████████████████▌      | 1.8 MB 31.3 MB/s eta 0:00:01\r\u001b[K     |█████████████████████████▋      | 1.8 MB 31.3 MB/s eta 0:00:01\r\u001b[K     |█████████████████████████▉      | 1.8 MB 31.3 MB/s eta 0:00:01\r\u001b[K     |██████████████████████████      | 1.8 MB 31.3 MB/s eta 0:00:01\r\u001b[K     |██████████████████████████      | 1.8 MB 31.3 MB/s eta 0:00:01\r\u001b[K     |██████████████████████████▎     | 1.9 MB 31.3 MB/s eta 0:00:01\r\u001b[K     |██████████████████████████▍     | 1.9 MB 31.3 MB/s eta 0:00:01\r\u001b[K     |██████████████████████████▌     | 1.9 MB 31.3 MB/s eta 0:00:01\r\u001b[K     |██████████████████████████▊     | 1.9 MB 31.3 MB/s eta 0:00:01\r\u001b[K     |██████████████████████████▉     | 1.9 MB 31.3 MB/s eta 0:00:01\r\u001b[K     |███████████████████████████     | 1.9 MB 31.3 MB/s eta 0:00:01\r\u001b[K     |███████████████████████████     | 1.9 MB 31.3 MB/s eta 0:00:01\r\u001b[K     |███████████████████████████▎    | 1.9 MB 31.3 MB/s eta 0:00:01\r\u001b[K     |███████████████████████████▍    | 1.9 MB 31.3 MB/s eta 0:00:01\r\u001b[K     |███████████████████████████▌    | 1.9 MB 31.3 MB/s eta 0:00:01\r\u001b[K     |███████████████████████████▊    | 2.0 MB 31.3 MB/s eta 0:00:01\r\u001b[K     |███████████████████████████▉    | 2.0 MB 31.3 MB/s eta 0:00:01\r\u001b[K     |████████████████████████████    | 2.0 MB 31.3 MB/s eta 0:00:01\r\u001b[K     |████████████████████████████▏   | 2.0 MB 31.3 MB/s eta 0:00:01\r\u001b[K     |████████████████████████████▎   | 2.0 MB 31.3 MB/s eta 0:00:01\r\u001b[K     |████████████████████████████▍   | 2.0 MB 31.3 MB/s eta 0:00:01\r\u001b[K     |████████████████████████████▋   | 2.0 MB 31.3 MB/s eta 0:00:01\r\u001b[K     |████████████████████████████▊   | 2.0 MB 31.3 MB/s eta 0:00:01\r\u001b[K     |████████████████████████████▉   | 2.0 MB 31.3 MB/s eta 0:00:01\r\u001b[K     |█████████████████████████████   | 2.0 MB 31.3 MB/s eta 0:00:01\r\u001b[K     |█████████████████████████████▏  | 2.1 MB 31.3 MB/s eta 0:00:01\r\u001b[K     |█████████████████████████████▎  | 2.1 MB 31.3 MB/s eta 0:00:01\r\u001b[K     |█████████████████████████████▍  | 2.1 MB 31.3 MB/s eta 0:00:01\r\u001b[K     |█████████████████████████████▋  | 2.1 MB 31.3 MB/s eta 0:00:01\r\u001b[K     |█████████████████████████████▊  | 2.1 MB 31.3 MB/s eta 0:00:01\r\u001b[K     |█████████████████████████████▉  | 2.1 MB 31.3 MB/s eta 0:00:01\r\u001b[K     |██████████████████████████████  | 2.1 MB 31.3 MB/s eta 0:00:01\r\u001b[K     |██████████████████████████████▏ | 2.1 MB 31.3 MB/s eta 0:00:01\r\u001b[K     |██████████████████████████████▎ | 2.1 MB 31.3 MB/s eta 0:00:01\r\u001b[K     |██████████████████████████████▍ | 2.2 MB 31.3 MB/s eta 0:00:01\r\u001b[K     |██████████████████████████████▋ | 2.2 MB 31.3 MB/s eta 0:00:01\r\u001b[K     |██████████████████████████████▊ | 2.2 MB 31.3 MB/s eta 0:00:01\r\u001b[K     |██████████████████████████████▉ | 2.2 MB 31.3 MB/s eta 0:00:01\r\u001b[K     |███████████████████████████████ | 2.2 MB 31.3 MB/s eta 0:00:01\r\u001b[K     |███████████████████████████████▏| 2.2 MB 31.3 MB/s eta 0:00:01\r\u001b[K     |███████████████████████████████▎| 2.2 MB 31.3 MB/s eta 0:00:01\r\u001b[K     |███████████████████████████████▌| 2.2 MB 31.3 MB/s eta 0:00:01\r\u001b[K     |███████████████████████████████▋| 2.2 MB 31.3 MB/s eta 0:00:01\r\u001b[K     |███████████████████████████████▊| 2.2 MB 31.3 MB/s eta 0:00:01\r\u001b[K     |████████████████████████████████| 2.3 MB 31.3 MB/s eta 0:00:01\r\u001b[K     |████████████████████████████████| 2.3 MB 31.3 MB/s \n",
            "\u001b[?25hRequirement already satisfied: opencv-python>=4.1.0 in /usr/local/lib/python3.7/dist-packages (from mtcnn) (4.1.2.30)\n",
            "Requirement already satisfied: keras>=2.0.0 in /usr/local/lib/python3.7/dist-packages (from mtcnn) (2.6.0)\n",
            "Requirement already satisfied: numpy>=1.14.5 in /usr/local/lib/python3.7/dist-packages (from opencv-python>=4.1.0->mtcnn) (1.19.5)\n",
            "Installing collected packages: mtcnn\n",
            "Successfully installed mtcnn-0.1.1\n"
          ]
        }
      ]
    },
    {
      "cell_type": "code",
      "metadata": {
        "colab": {
          "base_uri": "https://localhost:8080/"
        },
        "id": "kmNk0yTI4YKf",
        "outputId": "186d1ca2-bacf-4800-d940-6883565e9d4c"
      },
      "source": [
        "!pip install keras-facenet"
      ],
      "execution_count": 3,
      "outputs": [
        {
          "output_type": "stream",
          "name": "stdout",
          "text": [
            "Collecting keras-facenet\n",
            "  Downloading keras-facenet-0.3.2.tar.gz (10 kB)\n",
            "Requirement already satisfied: mtcnn in /usr/local/lib/python3.7/dist-packages (from keras-facenet) (0.1.1)\n",
            "Requirement already satisfied: opencv-python>=4.1.0 in /usr/local/lib/python3.7/dist-packages (from mtcnn->keras-facenet) (4.1.2.30)\n",
            "Requirement already satisfied: keras>=2.0.0 in /usr/local/lib/python3.7/dist-packages (from mtcnn->keras-facenet) (2.6.0)\n",
            "Requirement already satisfied: numpy>=1.14.5 in /usr/local/lib/python3.7/dist-packages (from opencv-python>=4.1.0->mtcnn->keras-facenet) (1.19.5)\n",
            "Building wheels for collected packages: keras-facenet\n",
            "  Building wheel for keras-facenet (setup.py) ... \u001b[?25l\u001b[?25hdone\n",
            "  Created wheel for keras-facenet: filename=keras_facenet-0.3.2-py3-none-any.whl size=10386 sha256=0be0cd5d4dd28cbfefa78688d910713243d353106be9902b095a4be5b5488a73\n",
            "  Stored in directory: /root/.cache/pip/wheels/2b/76/1a/a29ceb07bfca098e2b0bc8690d550753a0384cbed26d5f47ee\n",
            "Successfully built keras-facenet\n",
            "Installing collected packages: keras-facenet\n",
            "Successfully installed keras-facenet-0.3.2\n"
          ]
        }
      ]
    },
    {
      "cell_type": "code",
      "metadata": {
        "id": "aHpU2Gv00--c"
      },
      "source": [
        "from matplotlib import pyplot as plt\n",
        "from matplotlib.patches import Rectangle\n",
        "from matplotlib.patches import Circle\n",
        "from PIL import Image \n",
        "from numpy import savez_compressed\n",
        "from numpy import asarray\n",
        "from os import listdir\n",
        "from mtcnn.mtcnn import MTCNN\n",
        "import pandas as pd\n",
        "import numpy as np\n",
        "import cv2\n",
        "from google.colab.patches import cv2_imshow"
      ],
      "execution_count": 4,
      "outputs": []
    },
    {
      "cell_type": "markdown",
      "metadata": {
        "id": "3UFoMcfV28le"
      },
      "source": [
        "**Let's have a glance at the Dataset**"
      ]
    },
    {
      "cell_type": "code",
      "metadata": {
        "colab": {
          "base_uri": "https://localhost:8080/",
          "height": 221
        },
        "id": "0rUh2Fds3EAj",
        "outputId": "3e0497f3-2786-43e2-bdad-1b98e9e07f15"
      },
      "source": [
        "#loading train.csv\n",
        "df = pd.read_csv('/content/drive/MyDrive/ES_FaceMatch_Dataset/train.csv')\n",
        "#storing number of entries\n",
        "n = df.shape[0]\n",
        "print(n)\n",
        "#having a glance at the last five rows in the dataset\n",
        "df.tail()"
      ],
      "execution_count": 5,
      "outputs": [
        {
          "output_type": "stream",
          "name": "stdout",
          "text": [
            "23917\n"
          ]
        },
        {
          "output_type": "execute_result",
          "data": {
            "text/html": [
              "<div>\n",
              "<style scoped>\n",
              "    .dataframe tbody tr th:only-of-type {\n",
              "        vertical-align: middle;\n",
              "    }\n",
              "\n",
              "    .dataframe tbody tr th {\n",
              "        vertical-align: top;\n",
              "    }\n",
              "\n",
              "    .dataframe thead th {\n",
              "        text-align: right;\n",
              "    }\n",
              "</style>\n",
              "<table border=\"1\" class=\"dataframe\">\n",
              "  <thead>\n",
              "    <tr style=\"text-align: right;\">\n",
              "      <th></th>\n",
              "      <th>image1</th>\n",
              "      <th>image2</th>\n",
              "      <th>label</th>\n",
              "    </tr>\n",
              "  </thead>\n",
              "  <tbody>\n",
              "    <tr>\n",
              "      <th>23912</th>\n",
              "      <td>17620096105518.jpg</td>\n",
              "      <td>27185861803443.jpg</td>\n",
              "      <td>1</td>\n",
              "    </tr>\n",
              "    <tr>\n",
              "      <th>23913</th>\n",
              "      <td>54411024902913.jpg</td>\n",
              "      <td>54462918630631.jpg</td>\n",
              "      <td>0</td>\n",
              "    </tr>\n",
              "    <tr>\n",
              "      <th>23914</th>\n",
              "      <td>2441046188912.jpg</td>\n",
              "      <td>98569685833674.jpg</td>\n",
              "      <td>0</td>\n",
              "    </tr>\n",
              "    <tr>\n",
              "      <th>23915</th>\n",
              "      <td>79635236424472.jpg</td>\n",
              "      <td>19234963339416.jpg</td>\n",
              "      <td>1</td>\n",
              "    </tr>\n",
              "    <tr>\n",
              "      <th>23916</th>\n",
              "      <td>29150847849868.jpg</td>\n",
              "      <td>60050902308947.jpg</td>\n",
              "      <td>1</td>\n",
              "    </tr>\n",
              "  </tbody>\n",
              "</table>\n",
              "</div>"
            ],
            "text/plain": [
              "                   image1              image2  label\n",
              "23912  17620096105518.jpg  27185861803443.jpg      1\n",
              "23913  54411024902913.jpg  54462918630631.jpg      0\n",
              "23914   2441046188912.jpg  98569685833674.jpg      0\n",
              "23915  79635236424472.jpg  19234963339416.jpg      1\n",
              "23916  29150847849868.jpg  60050902308947.jpg      1"
            ]
          },
          "metadata": {},
          "execution_count": 5
        }
      ]
    },
    {
      "cell_type": "code",
      "metadata": {
        "colab": {
          "base_uri": "https://localhost:8080/",
          "height": 290
        },
        "id": "YwO3Dylg3SB7",
        "outputId": "b53cecb0-49e6-41bd-e572-7828ddc9ee86"
      },
      "source": [
        "#opening a random image to have a glance at the dataset and verify connection\n",
        "img1 = df['image1'][23915]\n",
        "address = '/content/drive/MyDrive/ES_FaceMatch_Dataset/dataset_images/' + img1\n",
        "print(address)\n",
        "image1 = cv2.imread(address)\n",
        "cv2_imshow(image1)"
      ],
      "execution_count": 6,
      "outputs": [
        {
          "output_type": "stream",
          "name": "stdout",
          "text": [
            "/content/drive/MyDrive/ES_FaceMatch_Dataset/dataset_images/79635236424472.jpg\n"
          ]
        },
        {
          "output_type": "display_data",
          "data": {
            "image/png": "[encoded data removed]",
            "text/plain": [
              "<PIL.Image.Image image mode=RGB size=256x256 at 0x7FE27B899F10>"
            ]
          },
          "metadata": {}
        }
      ]
    },
    {
      "cell_type": "markdown",
      "metadata": {
        "id": "i57NvOzP20op"
      },
      "source": [
        "**Face Detection Using MTCNN**"
      ]
    },
    {
      "cell_type": "code",
      "metadata": {
        "id": "11U5sBOS0_aS"
      },
      "source": [
        "def extract_image(image):\n",
        "  \"\"\"\n",
        "  function to extract faces from the images using MTCNN\n",
        "  \"\"\"\n",
        "  img1 = Image.open(image)            #open the image\n",
        "  img1 = img1.convert('RGB')          #convert the image to RGB format \n",
        "  pixels = asarray(img1)              #convert the image to numpy array\n",
        "  detector = MTCNN()                  #assign the MTCNN detector\n",
        "  f = detector.detect_faces(pixels)\n",
        "  #fetching the (x,y)co-ordinate and (width-->w, height-->h) of the image\n",
        "  x1,y1,w,h = f[0]['box']             \n",
        "  x1, y1 = abs(x1), abs(y1)\n",
        "  x2 = abs(x1+w)\n",
        "  y2 = abs(y1+h)\n",
        "  #locate the co-ordinates of face in the image\n",
        "  store_face = pixels[y1:y2,x1:x2]\n",
        "  #plt.imshow(store_face)\n",
        "  image1 = Image.fromarray(store_face,'RGB')    #convert the numpy array to object\n",
        "  image1 = image1.resize((160,160))             #resize the image\n",
        "  face_array = asarray(image1)                  #image to array\n",
        "  return face_array"
      ],
      "execution_count": 7,
      "outputs": []
    },
    {
      "cell_type": "markdown",
      "metadata": {
        "id": "gREov7Xp4Ulh"
      },
      "source": [
        "**Feature Extraction Using FaceNet**"
      ]
    },
    {
      "cell_type": "code",
      "metadata": {
        "id": "VQRkZdyZ0_1T"
      },
      "source": [
        "from numpy import load\n",
        "from numpy import asarray\n",
        "from numpy import expand_dims\n",
        "from numpy import savez_compressed\n",
        "from numpy import reshape\n",
        "from keras.models import load_model\n",
        "from keras_facenet import FaceNet"
      ],
      "execution_count": 8,
      "outputs": []
    },
    {
      "cell_type": "code",
      "metadata": {
        "colab": {
          "base_uri": "https://localhost:8080/"
        },
        "id": "YJK1K7wS1AME",
        "outputId": "ba381c5b-1073-4d55-fca6-5c8a4eb82322"
      },
      "source": [
        "\"\"\"\n",
        "iterate through all the entries of the csv and go to each image; \n",
        "extract faces and embeddings and store the pair as a numpy array\n",
        "\"\"\"\n",
        "x_test = []\n",
        "y_test = []\n",
        "facenet = FaceNet()\n",
        "for i in range(23900, n):\n",
        "  # if i%50 == 0:\n",
        "  #   print(i)\n",
        "  try:\n",
        "    img1 = df['image1'][i]\n",
        "    address1 = '/content/drive/MyDrive/ES_FaceMatch_Dataset/dataset_images/' + img1\n",
        "    face1 = extract_image(address1)\n",
        "    face1 = np.reshape(face1, (1,160, 160,3))\n",
        "    embed1 = facenet.embeddings(face1)\n",
        "    img2 = df['image2'][i]\n",
        "    address2 = '/content/drive/MyDrive/ES_FaceMatch_Dataset/dataset_images/' + img2\n",
        "    face2 = extract_image(address2)\n",
        "    face2 = np.reshape(face2, (1,160, 160,3))\n",
        "    embed2 = facenet.embeddings(face2)\n",
        "    pair = np.concatenate((embed1,embed2), axis=-1)\n",
        "    x_test.append(pair)\n",
        "    y_test.append(df['label'][i])\n",
        "    if i%100 ==0:\n",
        "      xarray= np.array(x_test)\n",
        "      yarray = np.array(y_test)\n",
        "      np.save('/content/drive/MyDrive/ES_Files/Xtrainlast.npy', xarray)\n",
        "      np.save('/content/drive/MyDrive/ES_Files/Ytrainlast.npy', yarray)\n",
        "  except:\n",
        "    pass\n",
        "    #print(i, str('NOT OK'))\n",
        "\n",
        "xarray= np.array(x_test)\n",
        "yarray = np.array(y_test)\n",
        "np.save('/content/drive/MyDrive/ES_Files/Xtrainlast.npy', xarray)\n",
        "np.save('/content/drive/MyDrive/ES_Files/Ytrainlast.npy', yarray)"
      ],
      "execution_count": 10,
      "outputs": [
        {
          "output_type": "stream",
          "name": "stdout",
          "text": [
            "WARNING:tensorflow:5 out of the last 10 calls to <function Model.make_predict_function.<locals>.predict_function at 0x7fe273242ef0> triggered tf.function retracing. Tracing is expensive and the excessive number of tracings could be due to (1) creating @tf.function repeatedly in a loop, (2) passing tensors with different shapes, (3) passing Python objects instead of tensors. For (1), please define your @tf.function outside of the loop. For (2), @tf.function has experimental_relax_shapes=True option that relaxes argument shapes that can avoid unnecessary retracing. For (3), please refer to https://www.tensorflow.org/guide/function#controlling_retracing and https://www.tensorflow.org/api_docs/python/tf/function for  more details.\n",
            "WARNING:tensorflow:6 out of the last 11 calls to <function Model.make_predict_function.<locals>.predict_function at 0x7fe2732d1950> triggered tf.function retracing. Tracing is expensive and the excessive number of tracings could be due to (1) creating @tf.function repeatedly in a loop, (2) passing tensors with different shapes, (3) passing Python objects instead of tensors. For (1), please define your @tf.function outside of the loop. For (2), @tf.function has experimental_relax_shapes=True option that relaxes argument shapes that can avoid unnecessary retracing. For (3), please refer to https://www.tensorflow.org/guide/function#controlling_retracing and https://www.tensorflow.org/api_docs/python/tf/function for  more details.\n"
          ]
        }
      ]
    },
    {
      "cell_type": "markdown",
      "metadata": {
        "id": "5ZMuvUbg5bKd"
      },
      "source": [
        "**Feature CLassification Using Random Forest Classifier**"
      ]
    },
    {
      "cell_type": "code",
      "metadata": {
        "id": "HuHXifVp5aXc"
      },
      "source": [
        "x1 = np.load('/content/drive/MyDrive/ES_Files/Xtrain10000.npy')\n",
        "x3 = np.load('/content/drive/MyDrive/ES_Files/Xtrain5000to7500.npy')\n",
        "x4 = np.load('/content/drive/MyDrive/ES_Files/Xtrain7500to10.npy')\n",
        "x5 = np.load('/content/drive/MyDrive/ES_Files/Xtrain10to12500.npy')\n",
        "x6 = np.load('/content/drive/MyDrive/ES_Files/Xtrain12500to15.npy')\n",
        "x7 = np.load('/content/drive/MyDrive/ES_Files/Xtrain15to16.npy')\n",
        "x8 = np.load('/content/drive/MyDrive/ES_Files/Xtrain17to18.npy')"
      ],
      "execution_count": 11,
      "outputs": []
    },
    {
      "cell_type": "code",
      "metadata": {
        "id": "a3c1kPor5-Mn"
      },
      "source": [
        "y1 = np.load('/content/drive/MyDrive/ES_Files/Ytrain10000.npy')\n",
        "y3 = np.load('/content/drive/MyDrive/ES_Files/Ytrain5000to7500.npy')\n",
        "y4 = np.load('/content/drive/MyDrive/ES_Files/Ytrain7500to10.npy')\n",
        "y5 = np.load('/content/drive/MyDrive/ES_Files/Ytrain10to12500.npy')\n",
        "y6 = np.load('/content/drive/MyDrive/ES_Files/Ytrain12500to15.npy')\n",
        "y7 = np.load('/content/drive/MyDrive/ES_Files/Ytrain15to16.npy')\n",
        "y8 = np.load('/content/drive/MyDrive/ES_Files/Ytrain17to18.npy')"
      ],
      "execution_count": 12,
      "outputs": []
    },
    {
      "cell_type": "code",
      "metadata": {
        "colab": {
          "base_uri": "https://localhost:8080/"
        },
        "id": "fLc_agE66BC9",
        "outputId": "c35e7185-f999-4ddd-8f7a-bae748900a89"
      },
      "source": [
        "#fetching stored arrays which have embeddings of each image pairs\n",
        "trainX = np.concatenate([x1, x3, x4, x5, x6, x7, x8], axis = 0)\n",
        "trainY = np.concatenate([y1, y3, y4, y5, y6, y7, y8], axis = 0)\n",
        "print(trainX.shape)\n",
        "print(trainY.shape)"
      ],
      "execution_count": 13,
      "outputs": [
        {
          "output_type": "stream",
          "name": "stdout",
          "text": [
            "(14275, 1, 1024)\n",
            "(14275,)\n"
          ]
        }
      ]
    },
    {
      "cell_type": "code",
      "metadata": {
        "id": "zhLXCPGD6Drm"
      },
      "source": [
        "trainX = trainX.reshape([14275,1024])"
      ],
      "execution_count": 16,
      "outputs": []
    },
    {
      "cell_type": "code",
      "metadata": {
        "id": "kFO5MXzM6VxU"
      },
      "source": [
        "from sklearn.model_selection import train_test_split\n",
        "from sklearn import model_selection\n",
        "from sklearn.ensemble import RandomForestClassifier\n",
        "from sklearn.metrics import classification_report"
      ],
      "execution_count": 19,
      "outputs": []
    },
    {
      "cell_type": "code",
      "metadata": {
        "id": "P3Nxm8gU9TrJ"
      },
      "source": [
        "x_train, x_test, y_train, y_test = train_test_split(trainX, trainY, test_size=0.16)"
      ],
      "execution_count": 17,
      "outputs": []
    },
    {
      "cell_type": "code",
      "metadata": {
        "colab": {
          "base_uri": "https://localhost:8080/"
        },
        "id": "N5BnDrDv61L9",
        "outputId": "776369b2-2ebc-4ea3-a3d7-d9068b81b9fc"
      },
      "source": [
        "# random forest model creation\n",
        "rfc = RandomForestClassifier()\n",
        "rfc.fit(x_train,y_train)\n",
        "# predictions\n",
        "rfc_predict = rfc.predict(x_test)\n",
        "print(classification_report(y_test, rfc_predict))"
      ],
      "execution_count": 20,
      "outputs": [
        {
          "output_type": "stream",
          "name": "stdout",
          "text": [
            "              precision    recall  f1-score   support\n",
            "\n",
            "           0       0.87      0.98      0.92      1460\n",
            "           1       0.95      0.75      0.84       824\n",
            "\n",
            "    accuracy                           0.90      2284\n",
            "   macro avg       0.91      0.86      0.88      2284\n",
            "weighted avg       0.90      0.90      0.89      2284\n",
            "\n"
          ]
        }
      ]
    },
    {
      "cell_type": "code",
      "metadata": {
        "id": "tLQs2SDn7CtF"
      },
      "source": [
        "from sklearn.model_selection import RandomizedSearchCV\n",
        "# number of trees in random forest\n",
        "n_estimators = [int(x) for x in np.linspace(start = 200, stop = 2000, num = 4)]\n",
        "# number of features at every split\n",
        "max_features = ['auto']\n",
        "\n",
        "# max depth\n",
        "max_depth = [int(x) for x in np.linspace(100, 500, num = 4)]\n",
        "max_depth.append(None)\n",
        "# create random grid\n",
        "random_grid = {\n",
        " 'n_estimators': n_estimators,\n",
        " 'max_features': max_features,\n",
        " 'max_depth': max_depth\n",
        " }\n",
        "# Random search of parameters\n",
        "rfc_random = RandomizedSearchCV(estimator = rfc, param_distributions = random_grid, n_iter = 100, cv = 2, verbose=2, random_state=42, n_jobs = -1)\n",
        "# Fit the model\n",
        "rfc_random.fit(x_train, y_train)\n",
        "# print results\n",
        "print(rfc_random.best_params_)"
      ],
      "execution_count": null,
      "outputs": []
    },
    {
      "cell_type": "code",
      "metadata": {
        "colab": {
          "base_uri": "https://localhost:8080/"
        },
        "id": "W-1bqw0f7Fs1",
        "outputId": "ba53241d-528a-4d23-e3a1-0b386f2f82cc"
      },
      "source": [
        "# random forest model creation with best parameters from randomized search\n",
        "rfc = RandomForestClassifier(n_estimators = 500)\n",
        "rfc.fit(x_train,y_train)\n",
        "# predictions\n",
        "rfc_predict = rfc.predict(x_test)\n",
        "print(classification_report(y_test, rfc_predict))"
      ],
      "execution_count": 21,
      "outputs": [
        {
          "output_type": "stream",
          "name": "stdout",
          "text": [
            "              precision    recall  f1-score   support\n",
            "\n",
            "           0       0.89      0.98      0.94      1460\n",
            "           1       0.96      0.79      0.87       824\n",
            "\n",
            "    accuracy                           0.91      2284\n",
            "   macro avg       0.93      0.89      0.90      2284\n",
            "weighted avg       0.92      0.91      0.91      2284\n",
            "\n"
          ]
        }
      ]
    },
    {
      "cell_type": "markdown",
      "metadata": {
        "id": "Y46Upgbx7YLM"
      },
      "source": [
        "**Storing the Feature Classification Model**"
      ]
    },
    {
      "cell_type": "code",
      "metadata": {
        "id": "MG4rOQBq7XrR"
      },
      "source": [
        "import pickle\n",
        "filename = 'finalized_model.sav'\n",
        "pickle.dump(rfc, open(filename, 'wb'))"
      ],
      "execution_count": 23,
      "outputs": []
    },
    {
      "cell_type": "code",
      "metadata": {
        "id": "TB-AlPMu_Aj0"
      },
      "source": [
        ""
      ],
      "execution_count": null,
      "outputs": []
    }
  ]
}